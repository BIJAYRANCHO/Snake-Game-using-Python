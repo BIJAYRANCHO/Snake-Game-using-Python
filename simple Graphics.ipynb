{
 "cells": [
  {
   "cell_type": "code",
   "execution_count": 2,
   "id": "smoking-falls",
   "metadata": {},
   "outputs": [],
   "source": [
    "import turtle\n",
    "turtle.speed(100)\n",
    "turtle.bgcolor(\"orange\")\n",
    "for i in range (15) :\n",
    "    for colours in (\"red\", \"magenta\", \"blue\", \"cyan\", \"green\", \"yellow\", \"white\") :\n",
    "        turtle.color(colours)\n",
    "        turtle.pensize(3)\n",
    "        turtle.left(4)\n",
    "        turtle.forward(200)\n",
    "        turtle.left(60)\n",
    "        turtle.forward(200)\n",
    "        turtle.left(120)\n",
    "        turtle.forward(200)\n",
    "        turtle.left(60)\n",
    "        turtle.forward(200)\n",
    "        turtle.left(120)"
   ]
  },
  {
   "cell_type": "code",
   "execution_count": null,
   "id": "steady-campus",
   "metadata": {},
   "outputs": [],
   "source": [
    "\n"
   ]
  },
  {
   "cell_type": "code",
   "execution_count": null,
   "id": "sunrise-olympus",
   "metadata": {},
   "outputs": [],
   "source": []
  }
 ],
 "metadata": {
  "kernelspec": {
   "display_name": "Python 3",
   "language": "python",
   "name": "python3"
  },
  "language_info": {
   "codemirror_mode": {
    "name": "ipython",
    "version": 3
   },
   "file_extension": ".py",
   "mimetype": "text/x-python",
   "name": "python",
   "nbconvert_exporter": "python",
   "pygments_lexer": "ipython3",
   "version": "3.9.4"
  }
 },
 "nbformat": 4,
 "nbformat_minor": 5
}
